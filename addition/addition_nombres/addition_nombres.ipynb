{
  "nbformat": 4,
  "nbformat_minor": 0,
  "metadata": {
    "colab": {
      "name": "00 - Addition nombres",
      "provenance": [],
      "collapsed_sections": []
    },
    "kernelspec": {
      "name": "python3",
      "display_name": "Python 3"
    },
    "language_info": {
      "name": "python"
    }
  },
  "cells": [
    {
      "cell_type": "markdown",
      "metadata": {
        "id": "oD6E0YrlOAwA"
      },
      "source": [
        "\n",
        "# Un premier exemple: l'addition\n",
        "\n",
        "Dans cet exemple, nous allons réaliser une tâche que nous savons comment faire (additionner des nombres) afin de nous permettre d'illustrer comment réaliser un premier réseau de neurones."
      ]
    },
    {
      "cell_type": "markdown",
      "metadata": {
        "id": "cQ9_Yo8bOM8m"
      },
      "source": [
        "## Importation des bibliothèques externes\n",
        "\n",
        "Ces ligne sont des commandes d'importation: elles disent à l'interprète Python\n",
        "d'utiliser ces bibliothèques afin de faire fonctionner le code que nous écrivons."
      ]
    },
    {
      "cell_type": "code",
      "metadata": {
        "id": "VDoDk80uN7lX"
      },
      "source": [
        "import numpy as np\n",
        "\n",
        "from tensorflow.keras.models import Sequential\n",
        "from tensorflow.keras.layers import Dense"
      ],
      "execution_count": null,
      "outputs": []
    },
    {
      "cell_type": "markdown",
      "metadata": {
        "id": "s6nDmcS0OWm4"
      },
      "source": [
        "Le modèle est séquentiel: les couches du réseau de neurones se suivent l'une après l'autre, en séquence."
      ]
    },
    {
      "cell_type": "code",
      "metadata": {
        "id": "Ie1R2qaJObEr"
      },
      "source": [
        "model = Sequential()"
      ],
      "execution_count": null,
      "outputs": []
    },
    {
      "cell_type": "markdown",
      "metadata": {
        "id": "HNcm9f7yOcsv"
      },
      "source": [
        "Nous allons créer une couche dense: chaque neurone dans la couche est connecté à chaque neurone dans la suivante."
      ]
    },
    {
      "cell_type": "code",
      "metadata": {
        "id": "sGwwCdMbOdeo"
      },
      "source": [
        "model.add(Dense(1, input_dim=2))\n"
      ],
      "execution_count": null,
      "outputs": []
    },
    {
      "cell_type": "markdown",
      "metadata": {
        "id": "IdSWQ4x7OjOn"
      },
      "source": [
        "Maintenant, nous compilons le modèle afin de le créer selon les importations de bibliothèques réalisées ci-haut."
      ]
    },
    {
      "cell_type": "code",
      "metadata": {
        "id": "l6RyjJIUOjcG"
      },
      "source": [
        "model.compile(optimizer='rmsprop',\n",
        "              loss='mean_squared_error',\n",
        "              metrics=['accuracy'])"
      ],
      "execution_count": null,
      "outputs": []
    },
    {
      "cell_type": "markdown",
      "metadata": {
        "id": "euictQnkOpzq"
      },
      "source": [
        "Ce code crée une liste de nombres aléatoires, que nous allons additionner ensemble."
      ]
    },
    {
      "cell_type": "code",
      "metadata": {
        "id": "CaOUB_MNOqUK"
      },
      "source": [
        "data = np.random.randint(100, size=(100000,2))"
      ],
      "execution_count": null,
      "outputs": []
    },
    {
      "cell_type": "markdown",
      "metadata": {
        "id": "hmCAKl8_OvhA"
      },
      "source": [
        " Comme nous allons apprendre au réseau à additionner, nous savons exactement ce que les réponses doivent être."
      ]
    },
    {
      "cell_type": "code",
      "metadata": {
        "id": "1UF9fejyOwLQ"
      },
      "source": [
        "labels = data[:,0] + data[:,1]\n",
        "for i, (a,b) in enumerate(data[:10,:]):\n",
        "    print(a, \"+\", b, \"=\", labels[i])"
      ],
      "execution_count": null,
      "outputs": []
    },
    {
      "cell_type": "markdown",
      "metadata": {
        "id": "HzFe9sW6O1-f"
      },
      "source": [
        "Cette ligne apprend au réseau à générer les résultats que nous voulons."
      ]
    },
    {
      "cell_type": "code",
      "metadata": {
        "id": "Y76Iw6jbO2bA"
      },
      "source": [
        "model.fit(data, labels, epochs=10, batch_size=100)\n"
      ],
      "execution_count": null,
      "outputs": []
    },
    {
      "cell_type": "markdown",
      "metadata": {
        "id": "nVoCkBzbO7tH"
      },
      "source": [
        "Maintenant, nous voulons tester le réseau sur des nombres qu'il n'a pas déjà vu sur des combinaisons nouvelles pour lui."
      ]
    },
    {
      "cell_type": "code",
      "metadata": {
        "id": "TBElrSQmO7-2"
      },
      "source": [
        "test_data = np.random.randint(100, size=(10,2))\n",
        "predictions = model.predict(test_data)\n",
        "actual_results = test_data[:,0] + test_data[:,1]"
      ],
      "execution_count": null,
      "outputs": []
    },
    {
      "cell_type": "markdown",
      "metadata": {
        "id": "DtUvxHw1PEMh"
      },
      "source": [
        "Nous imprimons les résultats pour vérifier si le réseau fonctionne."
      ]
    },
    {
      "cell_type": "code",
      "metadata": {
        "id": "tqsuXdvyOMKA"
      },
      "source": [
        "print(\"This is what we test it on: \", test_data)\n",
        "print(\"These are our expected results:\", actual_results)\n",
        "print(\"This is what the model output:\", predictions)"
      ],
      "execution_count": null,
      "outputs": []
    }
  ]
}